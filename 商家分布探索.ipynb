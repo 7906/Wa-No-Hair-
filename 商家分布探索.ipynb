{
 "cells": [
  {
   "cell_type": "code",
   "execution_count": 3,
   "metadata": {
    "collapsed": true
   },
   "outputs": [],
   "source": [
    "__author__ = 'zhengwei17'\n",
    "import pandas as pd\n",
    "from pandas import DataFrame\n",
    "from pylab import *\n",
    "import matplotlib.pyplot as plot"
   ]
  },
  {
   "cell_type": "code",
   "execution_count": 4,
   "metadata": {
    "collapsed": false
   },
   "outputs": [],
   "source": [
    "poi_data = pd.read_csv(r'C:\\Users\\zhengwei17\\Downloads\\data (10).csv')"
   ]
  },
  {
   "cell_type": "code",
   "execution_count": 7,
   "metadata": {
    "collapsed": false
   },
   "outputs": [
    {
     "data": {
      "text/plain": [
       "商家ID           int64\n",
       "门店名称          object\n",
       "首购用户数        float64\n",
       "商家实际交易额      float64\n",
       "总提单数           int64\n",
       "总推单数           int64\n",
       "商家活动承担成本     float64\n",
       "商家活动实际交易额    float64\n",
       "dtype: object"
      ]
     },
     "execution_count": 7,
     "metadata": {},
     "output_type": "execute_result"
    }
   ],
   "source": [
    "poi_data.dtypes"
   ]
  },
  {
   "cell_type": "code",
   "execution_count": 6,
   "metadata": {
    "collapsed": true
   },
   "outputs": [],
   "source": [
    "poi_data['首购用户数'] = poi_data['首购用户数'].astype('float64')"
   ]
  },
  {
   "cell_type": "code",
   "execution_count": 3,
   "metadata": {
    "collapsed": false
   },
   "outputs": [
    {
     "name": "stdout",
     "output_type": "stream",
     "text": [
      "      商家ID             门店名称  首购用户数       商家实际交易额  总提单数  总推单数      商家活动承担成本  \\\n",
      "0   479022  Q堡堡【松田学院分店】备注短号     21  34432.650022  2113  1784  17212.849985   \n",
      "1   515618           aicake      2  22165.500000   792   686    179.000000   \n",
      "2    96518              麦德味     95   4672.499999   469   352    115.000001   \n",
      "3  1538780            蜀将军鸭货      0    523.000000    23    17      0.000000   \n",
      "4  1121180          果然鲜水果超市      1   1637.319988   104    89      6.000000   \n",
      "\n",
      "      商家活动实际交易额  \n",
      "0  33681.150022  \n",
      "1  11862.000000  \n",
      "2   1347.499999  \n",
      "3    217.000000  \n",
      "4    384.089996  \n"
     ]
    }
   ],
   "source": [
    "print(poi_data.head())"
   ]
  },
  {
   "cell_type": "code",
   "execution_count": 4,
   "metadata": {
    "collapsed": false
   },
   "outputs": [
    {
     "name": "stdout",
     "output_type": "stream",
     "text": [
      "        商家ID             门店名称  首购用户数       商家实际交易额  总提单数  总推单数     商家活动承担成本  \\\n",
      "995  1383319     镇京老鸭粉丝汤（钟秀店）      3   6299.889961   350   315  1205.609995   \n",
      "996   100819             曹氏鸭脖      0      0.000000     0     0     0.000000   \n",
      "997   158206             土鸡泡馍      5    402.000000    44    33     0.000000   \n",
      "998    67606  优米客黄焖鸡米饭（公交车站店）     10  11288.000000   709   624   588.000000   \n",
      "999   397743            淘堡汉堡店     11   7457.799982   552   480  1479.199995   \n",
      "\n",
      "        商家活动实际交易额  \n",
      "995   5861.189966  \n",
      "996      0.000000  \n",
      "997    146.000000  \n",
      "998  10902.000000  \n",
      "999   6912.299982  \n"
     ]
    }
   ],
   "source": [
    "print(poi_data.tail())"
   ]
  },
  {
   "cell_type": "code",
   "execution_count": 7,
   "metadata": {
    "collapsed": false
   },
   "outputs": [
    {
     "name": "stdout",
     "output_type": "stream",
     "text": [
      "               商家ID        首购用户数        商家实际交易额          总提单数          总推单数  \\\n",
      "count  1.000000e+03  1000.000000    1000.000000   1000.000000   1000.000000   \n",
      "mean   9.213388e+05    14.693000   12966.630663    772.035000    673.284000   \n",
      "std    6.541492e+05    26.015102   24360.859939   1299.109591   1148.154088   \n",
      "min    2.742000e+03     0.000000       0.000000      0.000000      0.000000   \n",
      "25%    1.879262e+05     1.000000    1070.000000     62.750000     53.750000   \n",
      "50%    8.993505e+05     5.000000    4665.250000    288.500000    248.000000   \n",
      "75%    1.548337e+06    16.250000   13983.674992    874.000000    750.500000   \n",
      "max    2.058390e+06   213.000000  362488.319588  12945.000000  11954.000000   \n",
      "\n",
      "           商家活动承担成本      商家活动实际交易额  \n",
      "count   1000.000000    1000.000000  \n",
      "mean    2495.190772    8928.857493  \n",
      "std     7114.484874   19378.576624  \n",
      "min        0.000000       0.000000  \n",
      "25%        0.000000     243.375000  \n",
      "50%      173.250000    1772.399993  \n",
      "75%     1633.125000    8179.025003  \n",
      "max    70444.750002  229812.659818  \n"
     ]
    }
   ],
   "source": [
    "summary = poi_data.describe()\n",
    "print (summary)"
   ]
  },
  {
   "cell_type": "code",
   "execution_count": null,
   "metadata": {
    "collapsed": true
   },
   "outputs": [],
   "source": [
    "summary"
   ]
  },
  {
   "cell_type": "code",
   "execution_count": 22,
   "metadata": {
    "collapsed": false
   },
   "outputs": [
    {
     "data": {
      "image/png": "[encoded data removed]",
      "text/plain": [
       "<matplotlib.figure.Figure at 0x955ad68>"
      ]
     },
     "metadata": {},
     "output_type": "display_data"
    }
   ],
   "source": [
    "#箱型图分析\n",
    "#选取你想要的列\n",
    "array = poi_data.iloc[:,3:5].values\n",
    "boxplot(array)\n",
    "plot.xlabel(\"属性\")\n",
    "plot.ylabel(\"四分位距\")\n",
    "show()"
   ]
  },
  {
   "cell_type": "code",
   "execution_count": 26,
   "metadata": {
    "collapsed": false
   },
   "outputs": [
    {
     "data": {
      "image/png": "[encoded data removed]",
      "text/plain": [
       "<matplotlib.figure.Figure at 0x955aa20>"
      ]
     },
     "metadata": {},
     "output_type": "display_data"
    }
   ],
   "source": [
    "#对数据进行归一化，因为这个偏差真他妈大\n",
    "poi_dataNormalized = poi_data.iloc[:,3:5]\n",
    "\n",
    "for i in range(2):\n",
    "    mean = summary.iloc[1,i]\n",
    "    sd = summary.iloc[2,1]\n",
    "    poi_dataNormalized.iloc[:,i:(i + 1)] = poi_dataNormalized.iloc[:,i:(i + 1)] - mean / sd\n",
    "array3 = poi_dataNormalized.values\n",
    "boxplot(array3)\n",
    "plot.xlabel(\"属性\")\n",
    "plot.ylabel(\"四分位距\")\n",
    "show()"
   ]
  },
  {
   "cell_type": "code",
   "execution_count": 10,
   "metadata": {
    "collapsed": false
   },
   "outputs": [
    {
     "data": {
      "image/png": "[encoded data removed]",
      "text/plain": [
       "<matplotlib.figure.Figure at 0xa802048>"
      ]
     },
     "metadata": {},
     "output_type": "display_data"
    }
   ],
   "source": [
    "#我们在这里仍然表示不信邪，取对数试试\n",
    "poi_dataNormalized = poi_data.iloc[:,3:5]\n",
    "\n",
    "array4 = log(poi_data.iloc[:,3:5]).values\n",
    "\n",
    "boxplot(array4)\n",
    "plot.xlabel(\"属性\")\n",
    "plot.ylabel(\"四分位距\")\n",
    "show()"
   ]
  },
  {
   "cell_type": "code",
   "execution_count": null,
   "metadata": {
    "collapsed": false
   },
   "outputs": [],
   "source": [
    "#-*- coding: utf-8 -*-\n",
    "#菜品盈利数据 帕累托图\n",
    "from __future__ import print_function\n",
    "import pandas as pd\n",
    "\n",
    "#初始化参数\n",
    "dish_profit = 'E:/PythonMaterial/chapter3/chapter3/demo/data/catering_dish_profit.xls' #餐饮菜品盈利数据\n",
    "data = pd.read_excel(dish_profit, index_col = u'菜品名')\n",
    "data = data[u'盈利'].copy()#把data的盈利这一列抓出来\n",
    "data.sort(ascending = False)#降序排列\n",
    "\n",
    "import matplotlib.pyplot as plt #导入图像库\n",
    "plt.rcParams['font.sans-serif'] = ['SimHei'] #用来正常显示中文标签\n",
    "plt.rcParams['axes.unicode_minus'] = False #用来正常显示负号\n",
    "\n",
    "plt.figure()#建立图像\n",
    "#plot函数用来绘制线性二维图，折线图；kind用来指定作图类型，bar指的是条形图\n",
    "data.plot(kind='bar')\n",
    "plt.ylabel(u'盈利（元）')\n",
    "#sum()是计算样本的总和；cumsum()是依次给出前1,2,3.。。n个数的和\n",
    "p = 1.0*data.cumsum()/data.sum()\n",
    "p.plot(color = 'r', secondary_y = True, style = '-o',linewidth = 2)\n",
    "plt.annotate(format(p[6], '.4%'), xy = (6, p[6]), xytext=(6*0.9, p[6]*0.9), arrowprops=dict(arrowstyle=\"->\", connectionstyle=\"arc3,rad=.2\")) #添加注释，即85%处的标记。这里包括了指定箭头样式。\n",
    "plt.ylabel(u'盈利（比例）')\n",
    "plt.show()"
   ]
  },
  {
   "cell_type": "code",
   "execution_count": null,
   "metadata": {
    "collapsed": true
   },
   "outputs": [],
   "source": []
  }
 ],
 "metadata": {
  "anaconda-cloud": {},
  "kernelspec": {
   "display_name": "Python [conda root]",
   "language": "python",
   "name": "conda-root-py"
  },
  "language_info": {
   "codemirror_mode": {
    "name": "ipython",
    "version": 3
   },
   "file_extension": ".py",
   "mimetype": "text/x-python",
   "name": "python",
   "nbconvert_exporter": "python",
   "pygments_lexer": "ipython3",
   "version": "3.5.2"
  }
 },
 "nbformat": 4,
 "nbformat_minor": 1
}
